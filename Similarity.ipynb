{
 "cells": [
  {
   "cell_type": "code",
   "execution_count": 24,
   "metadata": {},
   "outputs": [],
   "source": [
    "import pandas as pd\n",
    "import matplotlib.pyplot as plt\n",
    "from IPython.display import display\n",
    "import datetime\n",
    "%config InlineBackend.figure_format = 'retina'\n",
    "\n",
    "import time\n",
    "import numpy as np\n",
    "from tqdm import tqdm\n",
    "from fuzzywuzzy import process"
   ]
  },
  {
   "cell_type": "code",
   "execution_count": 2,
   "metadata": {},
   "outputs": [],
   "source": [
    "data15 = pd.read_csv('./2015pcard_data (1).csv')\n",
    "data16 = pd.read_csv('./2016pcard_data (1).csv')\n",
    "data17 = pd.read_csv('./2017pcard_data (1).csv')\n",
    "input16 = pd.read_csv('./techtrades_2016_data_input_CC (1).csv')\n",
    "accounts = pd.read_csv('./techtrades_accounts (1).csv')\n",
    "bu = pd.read_csv('./techtrades_bu (1).csv')"
   ]
  },
  {
   "cell_type": "code",
   "execution_count": 125,
   "metadata": {},
   "outputs": [],
   "source": [
    "def get_similarity(df):\n",
    "    \n",
    "    vendors = pd.DataFrame(df['vendor'].unique())[0]\n",
    "\n",
    "    #sim_df = pd.DataFrame([process.extract(x, [i for i in vendors if x != i], limit=5) for x in vendors])\n",
    "    sim_df = []\n",
    "    \n",
    "    for x in tqdm(vendors):\n",
    "        match = process.extract(x, [i for i in vendors if x != i], limit=5)\n",
    "        sim_df.append(match)\n",
    "    \n",
    "    sim_df = pd.DataFrame(sim_df)\n",
    "    sim_df['vendors'] = vendors\n",
    "    sim_df['top'] = [x[1] for x in sim_df[0]]\n",
    "    \n",
    "    return sim_df"
   ]
  },
  {
   "cell_type": "code",
   "execution_count": 59,
   "metadata": {
    "scrolled": false
   },
   "outputs": [],
   "source": [
    "# # sim = get_similarity(data17)\n",
    "# sim.to_csv('./2017_similar.csv')"
   ]
  },
  {
   "cell_type": "code",
   "execution_count": 61,
   "metadata": {},
   "outputs": [],
   "source": [
    "# sim = get_similarity(data16)\n",
    "# sim.to_csv('./2016_similar.csv')"
   ]
  },
  {
   "cell_type": "code",
   "execution_count": 127,
   "metadata": {},
   "outputs": [],
   "source": [
    "# sim = get_similarity(data15)\n",
    "# sim.to_csv('./2015_similar.csv')"
   ]
  },
  {
   "cell_type": "code",
   "execution_count": 111,
   "metadata": {
    "scrolled": false
   },
   "outputs": [],
   "source": [
    "# sim[sim['top'] > 89]"
   ]
  },
  {
   "cell_type": "code",
   "execution_count": 343,
   "metadata": {},
   "outputs": [],
   "source": [
    "# sim_dict = {}\n",
    "\n",
    "# matching = []\n",
    "\n",
    "# for vendor in vendors:\n",
    "    \n",
    "#     if vendor.isin([matching]):\n",
    "#         pass\n",
    "    \n",
    "#     similar = process.extract(vendor, [i for i in vendors if vendor != i], limit=5)\n",
    "    \n",
    "#     if similar[0][1] > 89:\n",
    "#         matching_vendors = [x[0] for x in similar if x[1] > 89]\n",
    "#         print(matching_vendors)\n",
    "#         matching.append(matching_vendors)\n",
    "#     else:\n",
    "#         matching.append(None)"
   ]
  },
  {
   "cell_type": "code",
   "execution_count": null,
   "metadata": {},
   "outputs": [],
   "source": []
  }
 ],
 "metadata": {
  "kernelspec": {
   "display_name": "Python 3",
   "language": "python",
   "name": "python3"
  },
  "language_info": {
   "codemirror_mode": {
    "name": "ipython",
    "version": 3
   },
   "file_extension": ".py",
   "mimetype": "text/x-python",
   "name": "python",
   "nbconvert_exporter": "python",
   "pygments_lexer": "ipython3",
   "version": "3.6.5"
  }
 },
 "nbformat": 4,
 "nbformat_minor": 2
}
